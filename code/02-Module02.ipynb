{
 "cells": [
  {
   "cell_type": "raw",
   "id": "8ebb8ecc",
   "metadata": {},
   "source": [
    "---\n",
    "title: \"Graphics with ggplot2\"\n",
    "author: \"Ani Ruhil\"\n",
    "date: \"Updated `r Sys.Date()`\"\n",
    "output:\n",
    "    html_document: \n",
    "      theme: readable\n",
    "      highlight: zenburn\n",
    "      toc: true\n",
    "      toc_float: true\n",
    "      collapsed: false\n",
    "      smooth_scroll: false\n",
    "      self_contained: true\n",
    "editor_options: \n",
    "  chunk_output_type: console\n",
    "---"
   ]
  },
  {
   "cell_type": "markdown",
   "id": "88743a39",
   "metadata": {},
   "source": [
    "<style>\n",
    ".column-left{\n",
    "  float: left;\n",
    "  width: 50%;\n",
    "  text-align: left;\n",
    "}\n",
    ".column-right{\n",
    "  float: right;\n",
    "  width: 50%;\n",
    "  text-align: right;\n",
    "}\n",
    "</style>"
   ]
  },
  {
   "cell_type": "code",
   "execution_count": null,
   "id": "d50b8980",
   "metadata": {
    "name": "setup",
    "tags": [
     "remove_cell"
    ]
   },
   "outputs": [],
   "source": [
    "knitr::opts_chunk$set(fig.align = 'center', echo = TRUE, warning = FALSE, message = FALSE, dpi = 300, cache = TRUE, tidy = FALSE, tidy.opts = list(width.cutoff = 45), fig.align = \"center\", fig.width = 8, fig.height = 5, out.width = \"100%\", dev = 'svg') \n",
    "\n",
    "library(here)"
   ]
  },
  {
   "cell_type": "code",
   "execution_count": null,
   "id": "2bf3547f",
   "metadata": {
    "include": true,
    "name": "klippy1",
    "tags": [
     "remove_input"
    ]
   },
   "outputs": [],
   "source": [
    "klippy::klippy(tooltip_message = 'Click to copy this code', tooltip_success = 'Done', color = 'firebrick', position = c('top', 'right'))"
   ]
  },
  {
   "cell_type": "markdown",
   "id": "44316fd1",
   "metadata": {},
   "source": [
    "# Agenda \n",
    "Our goal in this module is to understand some basic ways of visualizing data. We will skip base R commands and instead just work with `ggplot2`, the most popular visualization package in the R universe. \n",
    "\n",
    "Remember the basic options... \n",
    "\n",
    "- one qualitative/categorical variables: `bar-chart` \n",
    "- one quantitative/continuous variables: `histogram/box-plot/area-chart`  \n",
    "- two quantitative/continuous variables: `scatter-plot/hex-bin` \n",
    "\n",
    "## Two data-sets\n",
    "\n",
    "I will use two data-sets, the first being this [IMDB data-set](http://imdb.com/)\n",
    "\n",
    "> The internet movie database, http://imdb.com/, is a website devoted to collecting movie data supplied by studios and fans. It claims to be the biggest movie database on the web and is run by amazon. More about information imdb.com can be found online, http://imdb.com/help/show_ leaf?about, including information about the data collection process, http://imdb.com/help/show_leaf?infosource."
   ]
  },
  {
   "cell_type": "code",
   "execution_count": null,
   "id": "0bc1d938",
   "metadata": {
    "name": "Module02_forClass-1"
   },
   "outputs": [],
   "source": [
    "library(ggplot2movies)"
   ]
  },
  {
   "cell_type": "markdown",
   "id": "ce5cf7ae",
   "metadata": {},
   "source": [
    "A data frame with 28819 rows and 24 variables \n",
    "\n",
    "- title. Title of the movie. \n",
    "- year. Year of release. \n",
    "- budget. Total budget (if known) in US dollars \n",
    "- length. Length in minutes. \n",
    "- rating. Average IMDB user rating. \n",
    "- votes. Number of IMDB users who rated this movie. \n",
    "- r1-10. Multiplying by ten gives percentile (to nearest 10%) of users who rated this movie a 1. \n",
    "- mpaa. MPAA rating (missing for a lot of movies) \n",
    "- action, animation, comedy, drama, documentary, romance, short. Binary variables representing if movie was classified as belonging to that genre. \n",
    "\n",
    "The second data-set is the [Star Wars dataset](https://swapi.co), a `tibble` with 87 rows and 13 variables:"
   ]
  },
  {
   "cell_type": "code",
   "execution_count": null,
   "id": "5d6a02a6",
   "metadata": {
    "name": "Module02_forClass-2"
   },
   "outputs": [],
   "source": [
    "library(dplyr)\n",
    "data(starwars)"
   ]
  },
  {
   "cell_type": "markdown",
   "id": "628837f0",
   "metadata": {},
   "source": [
    "- name: Name of the character \n",
    "- height: Height (cm)\n",
    "- mass: Weight (kg)\n",
    "- hair_color,skin_color,eye_color: Hair, skin, and eye colors\n",
    "- birth_year: Year born (BBY = Before Battle of Yavin)\n",
    "- gender: male, female, hermaphrodite, or none.\n",
    "- homeworld: Name of homeworld\n",
    "- species: Name of species\n",
    "- films: List of films the character appeared in\n",
    "- vehicles: List of vehicles the character has piloted\n",
    "- starships: List of starships the character has piloted\n",
    "\n",
    "a `tibble` you say? \n",
    "\n",
    "### data.frame vs. tibbles\n",
    "R's default is to store a `dataframe`, as shown below with a small example and there is a tendency to convert characters into factors, change column names, etc. "
   ]
  },
  {
   "cell_type": "code",
   "execution_count": null,
   "id": "f1a72be9",
   "metadata": {
    "name": "df"
   },
   "outputs": [],
   "source": [
    "data.frame(\n",
    "  `Some Letters` = c(\"A\", \"B\", \"C\"), \n",
    "  `Some Numbers` = c(1, 2, 3)\n",
    "  ) -> adf \n",
    "\n",
    "str(adf) # show me the structure of this object called adf \n",
    "\n",
    "print(adf) # display the object adf in the console "
   ]
  },
  {
   "cell_type": "markdown",
   "id": "3890dc07",
   "metadata": {},
   "source": [
    "`tibbles` is the brainchild of the team behind an idiosyncratic bundle of packages (and RStudio) called the `tidyverse` that drop some of R's bad habits "
   ]
  },
  {
   "cell_type": "code",
   "execution_count": null,
   "id": "eea1329d",
   "metadata": {
    "name": "tib"
   },
   "outputs": [],
   "source": [
    "library(dplyr)\n",
    "\n",
    "tibble(\n",
    "  `Some Letters` = c(\"A\", \"B\", \"C\"), \n",
    "  `Some Numbers` = c(1, 2, 3)\n",
    "  ) -> atib \n",
    "\n",
    "glimpse(atib) # a transposed version of the print command \n",
    "\n",
    "print(atib) # display the object atib in the console "
   ]
  },
  {
   "cell_type": "markdown",
   "id": "9cdaac05",
   "metadata": {},
   "source": [
    "Look at `adf` and compare it with `atib`. While there are other advantages to tibbles that we will encounter at a later stage, for now, focus on the following benefits: Unlike data.frames, (1) tibbles retain the `column names as created`, and (2) tibbles do not force characters into factors.   "
   ]
  },
  {
   "cell_type": "markdown",
   "id": "c624bff3",
   "metadata": {},
   "source": [
    "# `ggplot2` and the [grammar of graphics](http://vita.had.co.nz/papers/layered-grammar.html)"
   ]
  },
  {
   "cell_type": "code",
   "execution_count": null,
   "id": "2926ae22",
   "metadata": {
    "name": "ggimg",
    "out.width": "60%",
    "tags": [
     "remove_input"
    ]
   },
   "outputs": [],
   "source": [
    "knitr::include_graphics(\"images/grammarofgraphics.png\")"
   ]
  },
  {
   "cell_type": "markdown",
   "id": "b6f4e710",
   "metadata": {},
   "source": [
    "`qplot` will generate a quick plot but `ggplot2` is the way to go so we build with it. Read the relevant chapter on the grammar of graphics from the link in the syllabus or then [watch this video](https://vimeo.com/223812632). "
   ]
  },
  {
   "cell_type": "code",
   "execution_count": null,
   "id": "67b070a2",
   "metadata": {
    "name": "gg000"
   },
   "outputs": [],
   "source": [
    "library(ggplot2)\n",
    "ggplot(data = starwars)"
   ]
  },
  {
   "cell_type": "markdown",
   "id": "27e97015",
   "metadata": {},
   "source": [
    "Nothing results since we have not specified how we want the variable(s) to be `mapped` to the coordinate system... what variable should go on what axis? "
   ]
  },
  {
   "cell_type": "code",
   "execution_count": null,
   "id": "85204619",
   "metadata": {
    "name": "gg001"
   },
   "outputs": [],
   "source": [
    "ggplot(data = starwars, \n",
    "       mapping = aes(x = eye_color)) "
   ]
  },
  {
   "cell_type": "markdown",
   "id": "46eb8cbf",
   "metadata": {},
   "source": [
    "Now we are getting somewhere. We see the canvas with the specific eye colors on the x-axis but nothing else has been drawn since we have not specified the `geometry` ... do you want a bar-chart? histogram? dot-plot? line-chart? what?? \n",
    "\n",
    "With a categorical variable the bar-chart would be appropriate and so we ask for a `geom_bar()` "
   ]
  },
  {
   "cell_type": "code",
   "execution_count": null,
   "id": "bc860fe2",
   "metadata": {
    "name": "gg002"
   },
   "outputs": [],
   "source": [
    "ggplot(data = starwars, \n",
    "       mapping = aes(x = eye_color)) +\n",
    "  geom_bar()"
   ]
  },
  {
   "cell_type": "markdown",
   "id": "ae1bdcf3",
   "metadata": {},
   "source": [
    "Other `aesthetics` can be added, such as `group`, `color`, `fill`, `size`, `alpha` , axis labels, plot title/subtitle etc. \n",
    "\n",
    "There are two commands for adding a color scheme -- `color` or `colour` versus `fill`"
   ]
  },
  {
   "cell_type": "code",
   "execution_count": null,
   "id": "15ecd2b3",
   "metadata": {
    "name": "col1"
   },
   "outputs": [],
   "source": [
    "ggplot(data = starwars, \n",
    "       mapping = aes(x = eye_color, colour = eye_color)) +\n",
    "  geom_bar() +\n",
    "  labs(x = \"Eye Color\", \n",
    "       y = \"Frequency (n)\", \n",
    "       title = \"Bar-chart of Eye Color\", \n",
    "       subtitle = \"(of Star Wars characters)\")"
   ]
  },
  {
   "cell_type": "markdown",
   "id": "d02b6cee",
   "metadata": {},
   "source": [
    "Note what `colour = ` generated for us, and how this differs from `fill = ` (see below). "
   ]
  },
  {
   "cell_type": "code",
   "execution_count": null,
   "id": "dba78d9b",
   "metadata": {
    "name": "col2"
   },
   "outputs": [],
   "source": [
    "ggplot(data = starwars, \n",
    "       mapping = aes(x = eye_color, fill = eye_color)) +\n",
    "  geom_bar() +\n",
    "  labs(x = \"Eye Color\", y = \"Frequency\",\n",
    "       title = \"Bar-chart of Eye Color\",\n",
    "       subtitle = \"(of Star Wars characters)\")"
   ]
  },
  {
   "cell_type": "markdown",
   "id": "ee69ad75",
   "metadata": {},
   "source": [
    "Of course, it would be good to have the colors match the eye-color so let us do that next. "
   ]
  },
  {
   "cell_type": "code",
   "execution_count": null,
   "id": "a6ba9dfe",
   "metadata": {
    "name": "col3"
   },
   "outputs": [],
   "source": [
    "c(\"black\", \"blue\", \"slategray\", \"brown\",\n",
    "  \"gray34\", \"gold\", \"greenyellow\",\n",
    "  \"navajowhite1\", \"orange\", \"pink\", \"red\",\n",
    "  \"magenta\", \"thistle3\", \"white\", \"yellow\"\n",
    "  ) -> mycolors \n",
    "\n",
    "ggplot(data = starwars, mapping = aes(x = eye_color)) +\n",
    "  geom_bar(fill = mycolors) +\n",
    "  labs(x = \"Eye Color\",\n",
    "       y = \"Frequency\",\n",
    "       title = \"Bar-chart of Eye Color\",\n",
    "       subtitle = \"(of Star Wars characters)\")"
   ]
  },
  {
   "cell_type": "markdown",
   "id": "4f979559",
   "metadata": {},
   "source": [
    "R Colors used from are [this source](http://www.stat.columbia.edu/~tzheng/files/Rcolor.pdf) but see also [this source](https://www.nceas.ucsb.edu/~frazier/RSpatialGuides/colorPaletteCheatsheet.pdf). Colors can be customized by generating your own palettes via the [Color Brewer here](http://colorbrewer2.org/#type=sequential&scheme=YlGnBu&n=3). But don't get carried away: Remember to read the materials on choosing colors wisely, particularly the point about qualitative palettes, divergent palettes, and then palettes that work well even with colorblind audiences.\n",
    "\n",
    "I'll switch to a different variable and show you how to use prebuilt color palettes. "
   ]
  },
  {
   "cell_type": "code",
   "execution_count": null,
   "id": "c2c97e81",
   "metadata": {
    "name": "colfillb"
   },
   "outputs": [],
   "source": [
    "ggplot(data = starwars, mapping = aes(x = gender)) +\n",
    "  geom_bar(aes(fill = gender)) +\n",
    "  labs(x = \"Gender\",\n",
    "       y = \"Frequency\",\n",
    "       title = \"Bar-chart of Gender\",\n",
    "       subtitle = \"(of Star Wars characters)\",\n",
    "       caption = \"(Source: The dplyr package)\") +\n",
    "  scale_fill_brewer(palette = \"Pastel1\")\n",
    "\n",
    "ggplot(data = starwars, mapping = aes(x = gender)) +\n",
    "  geom_bar(aes(fill = gender)) +\n",
    "  labs(x = \"Gender\",\n",
    "       y = \"Frequency\",\n",
    "       title = \"Bar-chart of Gender\",\n",
    "       subtitle = \"(of Star Wars characters)\",\n",
    "       caption = \"(Source: The dplyr package)\") +\n",
    "  scale_fill_brewer(palette = \"Set1\")"
   ]
  },
  {
   "cell_type": "code",
   "execution_count": null,
   "id": "4331b066",
   "metadata": {
    "name": "colfillm"
   },
   "outputs": [],
   "source": [
    "library(ggplot2)\n",
    "library(wesanderson)\n",
    "ggplot(data = starwars, mapping = aes(x = gender)) +\n",
    "  geom_bar(aes(fill = gender)) +\n",
    "  labs(x = \"Gender\", y = \"Frequency\",\n",
    "       title = \"Bar-chart of Gender\",\n",
    "       subtitle = \"(of Star Wars characters)\",\n",
    "       caption = \"(Source: The dplyr package)\") +\n",
    "  scale_fill_manual(values = wes_palette(\"Darjeeling1\"))"
   ]
  },
  {
   "cell_type": "code",
   "execution_count": null,
   "id": "6b70cf2d",
   "metadata": {
    "name": "practice1"
   },
   "outputs": [],
   "source": [
    "ggplot(data = starwars, aes(x = homeworld)) +\n",
    "  geom_bar() +\n",
    "  coord_flip()\n",
    "\n",
    "ggplot(data = starwars, aes(x = species)) +\n",
    "  geom_bar() +\n",
    "  coord_flip()\n",
    "\n",
    "ggplot(data = starwars, aes(x = gender)) +\n",
    "  geom_bar()"
   ]
  },
  {
   "cell_type": "markdown",
   "id": "eeebfa03",
   "metadata": {},
   "source": [
    "Now add labels, a title, subtitle"
   ]
  },
  {
   "cell_type": "code",
   "execution_count": null,
   "id": "0372b242",
   "metadata": {
    "lines_to_next_cell": 2,
    "name": "practice2"
   },
   "outputs": [],
   "source": [
    "ggplot(data = starwars, aes(x = gender)) +\n",
    "  geom_bar() +\n",
    "  labs(x = \"Gender\",\n",
    "       y = \"Frequency\",\n",
    "       title = \"Bar-chart of Gender\",\n",
    "       subtitle = \"(of Star Wars characters)\",\n",
    "       caption = \"(Source: The dplyr package)\")"
   ]
  },
  {
   "cell_type": "markdown",
   "id": "c088ad4f",
   "metadata": {},
   "source": [
    "Study the commands carefully and note that \n",
    "\n",
    "- `scale_fill_brewer` is being used in the first plot, calling on built-in color palettes. You can [review them here](http://ggplot2.tidyverse.org/reference/scale_brewer.html) \n",
    "- `scale_fill_manual` is being used in the second plot and a specific palette is being invoked from [the wesanderson package](https://github.com/karthik/wesanderson) "
   ]
  },
  {
   "cell_type": "markdown",
   "id": "32041ab7",
   "metadata": {},
   "source": [
    "Color palettes will come into play far more later on in this course. \n",
    "\n",
    "## Themes \n",
    "One can also lean on various plotting themes as shown below. "
   ]
  },
  {
   "cell_type": "code",
   "execution_count": null,
   "id": "4dde67ee",
   "metadata": {
    "name": "Module02_forClass-3",
    "out.width": "100%"
   },
   "outputs": [],
   "source": [
    "library(ggthemes)\n",
    "\n",
    "ggplot(data = starwars, \n",
    "             mapping = aes(x = eye_color)) +\n",
    "  geom_bar() +\n",
    "  theme_tufte() +\n",
    "  theme(axis.text.x = element_text(size = 6)) -> p1 \n",
    "\n",
    "ggplot(data = starwars, \n",
    "             mapping = aes(x = eye_color)) +\n",
    "  geom_bar() +\n",
    "  theme_solarized() +\n",
    "  theme(axis.text.x = element_text(size = 6)) -> p2 \n",
    "\n",
    "ggplot(data = starwars, \n",
    "             mapping = aes(x = eye_color)) +\n",
    "  geom_bar() +\n",
    "  theme_economist() +\n",
    "  theme(axis.text.x = element_text(size = 6)) -> p3 \n",
    "\n",
    "ggplot(data = starwars, \n",
    "             mapping = aes(x = eye_color)) +\n",
    "  geom_bar() +\n",
    "  theme_fivethirtyeight() +\n",
    "  theme(axis.text.x = element_text(size = 6)) -> p4 \n",
    "\n",
    "library(patchwork)\n",
    "p1 + p2 + p3 + p4 + plot_layout(ncol = 2)"
   ]
  },
  {
   "cell_type": "markdown",
   "id": "a4eefab7",
   "metadata": {},
   "source": [
    "Later on you will learn these & other ways to build advanced visualizations ...for now we get to work more with `ggplot2`. \n",
    "\n",
    "## More with bar-charts"
   ]
  },
  {
   "cell_type": "code",
   "execution_count": null,
   "id": "723289c0",
   "metadata": {
    "name": "bar01"
   },
   "outputs": [],
   "source": [
    "library(ggplot2movies)\n",
    "ggplot(data = movies, aes(x = mpaa)) +\n",
    "  geom_bar() +\n",
    "  theme_minimal()"
   ]
  },
  {
   "cell_type": "code",
   "execution_count": null,
   "id": "8df8d653",
   "metadata": {
    "name": "bar02"
   },
   "outputs": [],
   "source": [
    "library(ggplot2)\n",
    "ggplot(data = movies) +\n",
    "  geom_bar(aes(x = mpaa)) +\n",
    "  theme_minimal()"
   ]
  },
  {
   "cell_type": "markdown",
   "id": "17826b8c",
   "metadata": {},
   "source": [
    "Notice that we switched the `aes()` piece of the code but that made no difference; this is important to bear in mind because it will come in handy down the road when we need to build some advanced visualizations. \n",
    "\n",
    "The plot is sub-optimal since MPAA ratings are missing for a lot of movies and should be  eliminated from the plot via `subset(mpa != \"\")`  "
   ]
  },
  {
   "cell_type": "code",
   "execution_count": null,
   "id": "4da31bd1",
   "metadata": {
    "name": "bar2"
   },
   "outputs": [],
   "source": [
    "str(movies$mpaa)\n",
    "\n",
    "ggplot(subset(movies, mpaa != \"\"), aes(x = mpaa)) +\n",
    "  geom_bar() +\n",
    "  theme_minimal()"
   ]
  },
  {
   "cell_type": "markdown",
   "id": "02b67127",
   "metadata": {},
   "source": [
    "The order of the bars is fortuitous in that it goes from the smallest frequency to the highest frequency, drawing the reader's eye. I said fortuitous because the default is to order the bars in an ascending alphabetic/alphanumeric order if the variable is a **character**. See below for an example. "
   ]
  },
  {
   "cell_type": "code",
   "execution_count": null,
   "id": "529cac3b",
   "metadata": {
    "name": "bar3"
   },
   "outputs": [],
   "source": [
    "library(dplyr)\n",
    "tibble(\n",
    "  x = c(\n",
    "    rep(\"A\", 2),\n",
    "    rep(\"B\", 4),\n",
    "    rep(\"C\", 1)\n",
    "    )\n",
    "  ) -> df \n",
    "\n",
    "ggplot(data = df, aes(x = x)) +\n",
    "  geom_bar() +\n",
    "  theme_minimal()"
   ]
  },
  {
   "cell_type": "markdown",
   "id": "15f5805f",
   "metadata": {},
   "source": [
    "Later on we'll learn how to order the bars with ascending/descending frequencies or by some other logic. \n",
    "\n",
    "What about plotting the `relative frequencies` on the y-axis rather than the frequencies? "
   ]
  },
  {
   "cell_type": "code",
   "execution_count": null,
   "id": "ae7ee462",
   "metadata": {
    "name": "bar4"
   },
   "outputs": [],
   "source": [
    "library(ggplot2movies) \n",
    "library(scales)\n",
    "library(ggplot2)\n",
    "ggplot(data = subset(movies, mpaa != \"\"), \n",
    "       aes(x = mpaa,\n",
    "           y = (..count..)/sum(..count..))) +\n",
    "  geom_bar() +\n",
    "  scale_y_continuous(labels = scales::percent) +\n",
    "  labs(x = \"MPAA Rating\",\n",
    "       y = \"Relative Frequency (%)\") +\n",
    "  theme_minimal() "
   ]
  },
  {
   "cell_type": "markdown",
   "id": "9a3edb40",
   "metadata": {},
   "source": [
    "Note the addition of `y = (..count..)/sum(..count..)` gives us proportions on the y-axis that are then converted into % via `scale_y_continuous(labels = scales::percent)` \n",
    "\n",
    "We could also add a second or even a third/fourth categorical variable. Let us see this with our `hsb2` data-set. we can start by reading in the data file. "
   ]
  },
  {
   "cell_type": "code",
   "execution_count": null,
   "id": "e5c30825",
   "metadata": {
    "name": "bar5"
   },
   "outputs": [],
   "source": [
    "library(here)\n",
    "load(here(\"data\", \"hsb2.RData\"))\n",
    "colnames(hsb2) <- tolower(colnames(hsb2)) \n",
    "\n",
    "ggplot(data = hsb2, aes(x = ses, group = female)) + \n",
    "  geom_bar(aes(fill = female)) + \n",
    "  theme_minimal()"
   ]
  },
  {
   "cell_type": "markdown",
   "id": "351f1cb9",
   "metadata": {},
   "source": [
    "This is not very useful since the viewer has to estimate the relative sizes of the two colors within any given bar. That can be fixed with `position = \"dodge\"`, juxtaposing the bars for the groups as a result, and the end product is much better. "
   ]
  },
  {
   "cell_type": "code",
   "execution_count": null,
   "id": "25568a8b",
   "metadata": {
    "name": "bar6"
   },
   "outputs": [],
   "source": [
    "ggplot(data = hsb2, aes(x = ses, group = female)) + \n",
    "  geom_bar(aes(fill = female), position = \"dodge\") + \n",
    "  theme_minimal()"
   ]
  },
  {
   "cell_type": "markdown",
   "id": "7f5e8eb2",
   "metadata": {},
   "source": [
    "This is fine if you want to know what percent of the 200 students are low SES males, low SES females, etc. What if you wanted to calculate percentages within each sex? "
   ]
  },
  {
   "cell_type": "code",
   "execution_count": null,
   "id": "2df7cc5f",
   "metadata": {
    "name": "bar7"
   },
   "outputs": [],
   "source": [
    "ggplot(data = hsb2, aes(x = ses, y = female)) + \n",
    "  geom_bar(aes(group = female,\n",
    "               fill = female, y = ..prop..),\n",
    "           position = \"dodge\") +\n",
    "  scale_y_continuous(labels = scales::percent) +\n",
    "  labs(y = \"Relative Frequency (%)\",\n",
    "       x = \"Socioeconomic Status Groups\") +\n",
    "  theme_minimal()"
   ]
  },
  {
   "cell_type": "markdown",
   "id": "c7194f1e",
   "metadata": {},
   "source": [
    "What about within each ses? "
   ]
  },
  {
   "cell_type": "code",
   "execution_count": null,
   "id": "9cbe18a9",
   "metadata": {
    "name": "bar8"
   },
   "outputs": [],
   "source": [
    "ggplot(data = hsb2, aes(x = female, y = ses)) +\n",
    "  geom_bar(aes(group = ses, fill = ses, y = ..prop..),\n",
    "           position = \"dodge\") +\n",
    "  scale_y_continuous(labels = scales::percent) +\n",
    "  labs(y = \"Relative Frequency (%)\",\n",
    "       x = \"Socioeconomic Status Groups\") +\n",
    "  theme_minimal()"
   ]
  },
  {
   "cell_type": "markdown",
   "id": "79ff62e4",
   "metadata": {},
   "source": [
    "## Histograms \n",
    "\n",
    "If you've forgotten what these are, see [histogram](http://tinlizzie.org/histograms/), or then [Yau's piece here](https://flowingdata.com/2014/02/27/how-to-read-histograms-and-use-them-in-r/) and [here](https://flowingdata.com/2017/06/07/how-histograms-work/). [There is a short video available as well](https://vimeo.com/221607341). \n",
    "\n",
    "Let us load the `hsb2` data we had downloaded, processed (adding value labels to categorical variables) and saved in our **data** folder in the last module. "
   ]
  },
  {
   "cell_type": "code",
   "execution_count": null,
   "id": "64a25986",
   "metadata": {
    "name": "loading"
   },
   "outputs": [],
   "source": [
    "load(here(\"data\", \"hsb2.RData\"))"
   ]
  },
  {
   "cell_type": "markdown",
   "id": "962e91ca",
   "metadata": {},
   "source": [
    "For histograms in ggplot2, `geom_histogram()` does the trick but note that the default number of bins is not very useful and can be tweaked, along with other embellishments. "
   ]
  },
  {
   "cell_type": "code",
   "execution_count": null,
   "id": "be490d19",
   "metadata": {
    "name": "gg2a"
   },
   "outputs": [],
   "source": [
    "ggplot(data = hsb2, aes(x = read)) + \n",
    "  geom_histogram(fill = \"cornflowerblue\",\n",
    "                 color = \"white\") + \n",
    "  labs(title = \"Histogram of Reading Scores\",\n",
    "       x = \"Reading Score\",\n",
    "       y = \"Frequency\") +\n",
    "  theme_minimal()"
   ]
  },
  {
   "cell_type": "markdown",
   "id": "ea4a1efc",
   "metadata": {},
   "source": [
    "We could set `bins = 5` and we could also experiment with increasing the `binwidth` to 10"
   ]
  },
  {
   "cell_type": "code",
   "execution_count": null,
   "id": "b2bdf565",
   "metadata": {
    "name": "gg2b"
   },
   "outputs": [],
   "source": [
    "ggplot(data = hsb2, aes(x=read)) +\n",
    "  geom_histogram(fill=\"cornflowerblue\",\n",
    "                 color = \"white\",\n",
    "                 bins = 5) +\n",
    "  labs(title = \"Histogram of Reading Scores\",\n",
    "       x = \"Reading Score\",\n",
    "       y = \"Frequency\") +\n",
    "  theme_minimal()"
   ]
  },
  {
   "cell_type": "code",
   "execution_count": null,
   "id": "5aa8d281",
   "metadata": {
    "name": "gg2c"
   },
   "outputs": [],
   "source": [
    "ggplot(data = hsb2, aes(x=read)) +\n",
    "  geom_histogram(fill=\"cornflowerblue\",\n",
    "                 color = \"white\",\n",
    "                 binwidth = 10) +\n",
    "  labs(title = \"Histogram of Reading Scores\",\n",
    "       x = \"Reading Score\",\n",
    "       y = \"Frequency\") +\n",
    "  theme_minimal()"
   ]
  },
  {
   "cell_type": "markdown",
   "id": "62df8bc2",
   "metadata": {},
   "source": [
    "If we wanted to break out the histogram by one or more categorical variables, we could do so quite easily: "
   ]
  },
  {
   "cell_type": "code",
   "execution_count": null,
   "id": "cf8d09f8",
   "metadata": {
    "name": "gg3"
   },
   "outputs": [],
   "source": [
    "ggplot(hsb2, aes(x = read)) +\n",
    "  geom_histogram(fill=\"cornflowerblue\",\n",
    "                 bins = 5,\n",
    "                 color = \"white\") +\n",
    "  labs(title = \"Histogram of Reading Scores\",\n",
    "       x = \"Reading Score\",\n",
    "       y = \"Frequency\") +\n",
    "  facet_wrap(~ female) +\n",
    "  theme_minimal()"
   ]
  },
  {
   "cell_type": "markdown",
   "id": "9c110830",
   "metadata": {},
   "source": [
    "Or better yet, "
   ]
  },
  {
   "cell_type": "code",
   "execution_count": null,
   "id": "423ed3f8",
   "metadata": {
    "name": "gg4"
   },
   "outputs": [],
   "source": [
    "ggplot(hsb2, aes(x = read)) +\n",
    "  geom_histogram(fill=\"cornflowerblue\",\n",
    "                 bins = 10,\n",
    "                 color = \"white\") +\n",
    "  labs(title = \"Histogram of Reading Scores\",\n",
    "       x = \"Reading Score\",\n",
    "       y = \"Frequency\") +\n",
    "  facet_wrap(~ female, ncol = 1) +\n",
    "  theme_minimal()"
   ]
  },
  {
   "cell_type": "markdown",
   "id": "f09e64aa",
   "metadata": {},
   "source": [
    "since now the distributions are stacked above each, easing comparisons. \n",
    "\n",
    "One useful design element with breakouts is placing in relief the consolidated data (i.e., the distribution for all of the data rather than by female/male). "
   ]
  },
  {
   "cell_type": "code",
   "execution_count": null,
   "id": "1b116da6",
   "metadata": {
    "name": "gg4context"
   },
   "outputs": [],
   "source": [
    "ggplot(data = hsb2, aes(x = read, fill = female)) +\n",
    "  geom_histogram(bins = 10, color = \"white\") +\n",
    "  labs(title = \"Histogram of Reading Scores\",\n",
    "       x = \"Reading Score\",\n",
    "       y = \"Frequency\") +\n",
    "  facet_wrap(~ female, ncol = 1) + \n",
    "  geom_histogram(data = hsb2[, -2],\n",
    "                 bins = 10,\n",
    "                 fill = \"grey\",\n",
    "                 alpha = .5) +\n",
    "  theme_minimal()"
   ]
  },
  {
   "cell_type": "markdown",
   "id": "0b9a2456",
   "metadata": {},
   "source": [
    "Here it is obvious that the distribution of readings scores of any one sex are similar to the overall distribution so perhaps the groups are not really that different in terms of reading scores \n",
    "\n",
    "For breakouts with two categorical variables we could do "
   ]
  },
  {
   "cell_type": "code",
   "execution_count": null,
   "id": "591f4f30",
   "metadata": {
    "name": "gg5a"
   },
   "outputs": [],
   "source": [
    "ggplot(data = hsb2, aes(x = read)) +\n",
    "  geom_histogram(fill=\"cornflowerblue\",\n",
    "                 bins = 10,\n",
    "                 color = \"white\") +\n",
    "  labs(title = \"Histogram of Reading Scores\",\n",
    "       x = \"Reading Score\",\n",
    "       y = \"Frequency\") + \n",
    "  facet_wrap(~ female + schtyp, ncol = 2) + \n",
    "  theme_minimal()"
   ]
  },
  {
   "cell_type": "markdown",
   "id": "2f6ea63a",
   "metadata": {},
   "source": [
    "Note that `~ female + schtyp` renders the panels for the first category of female by all categories of schtyp and then repeats for the other category of female. "
   ]
  },
  {
   "cell_type": "code",
   "execution_count": null,
   "id": "aed02317",
   "metadata": {
    "name": "gg5b"
   },
   "outputs": [],
   "source": [
    "ggplot(data = hsb2, aes(x = read)) +\n",
    "  geom_histogram(fill=\"cornflowerblue\",\n",
    "                 bins = 10, color = \"white\") +\n",
    "  labs(title = \"Histogram of Reading Scores\",\n",
    "       x = \"Reading Score\",\n",
    "       y = \"Frequency\") +\n",
    "  facet_wrap(schtyp ~ female, ncol = 2) +\n",
    "  theme_minimal()"
   ]
  },
  {
   "cell_type": "markdown",
   "id": "e307f6cc",
   "metadata": {},
   "source": [
    "Note that `schtyp ~ female` renders the panels for the first category of schtype for all categories of female and then repeats for the other category of schtyp \n",
    "\n",
    "... which is the same as ..."
   ]
  },
  {
   "cell_type": "code",
   "execution_count": null,
   "id": "5c254e76",
   "metadata": {
    "name": "gg5c"
   },
   "outputs": [],
   "source": [
    "ggplot(data = hsb2, aes(x = read)) +\n",
    "  geom_histogram(fill=\"cornflowerblue\",\n",
    "                 bins = 10,\n",
    "                 color = \"white\") +\n",
    "  labs(title = \"Histogram of Reading Scores\",\n",
    "       x = \"Reading Score\",\n",
    "       y = \"Frequency\") +\n",
    "  facet_wrap(~ schtyp + female, ncol = 2) +\n",
    "  theme_minimal()"
   ]
  },
  {
   "cell_type": "markdown",
   "id": "891da90f",
   "metadata": {},
   "source": [
    "In general, do not forget to set the y limit to start at 0 or then make a note in the plot for readers so they don't assume it is at 0 when in fact it has been truncated for ease of data presentation. If this misstates the pattern in the data, do not do it or then, again, annotate the plot to that effect so nobody is misled. Bar-charts will have 0 as the minimum y-limit but not so for histograms and some other plots involving continuous variables. "
   ]
  },
  {
   "cell_type": "markdown",
   "id": "9bfc929a",
   "metadata": {},
   "source": [
    "## Ridge-plots \n",
    "\n",
    "These were all the rage in the summer of 2017, and named `joy plots` but the unfortunate connection with the source of the plots led the name to be revised to `ridge-plots`. If you are curious, see [why not joy?](http://serialmentor.com/blog/2017/9/15/goodbye-joyplots). You need to have installed the `ggridges` package but other than that, they are easy to craft. "
   ]
  },
  {
   "cell_type": "code",
   "execution_count": null,
   "id": "193260b0",
   "metadata": {
    "name": "ridge1"
   },
   "outputs": [],
   "source": [
    "library(viridis)\n",
    "library(ggridges)\n",
    "library(ggthemes)\n",
    "ggplot(lincoln_weather, aes(x = `Mean Temperature [F]`, y = `Month`)) +\n",
    "  geom_density_ridges(scale = 3, alpha = 0.3, aes(fill = Month)) +\n",
    "  labs(title = 'Temperatures in Lincoln NE',\n",
    "       subtitle = 'Mean temperatures (Fahrenheit) by month for\n",
    "       2016\\nData: Original CSV from the Weather Underground') +\n",
    "  theme_ridges() +\n",
    "  theme(axis.title.y = element_blank(),\n",
    "        legend.position = \"none\")  "
   ]
  },
  {
   "cell_type": "markdown",
   "id": "1830615e",
   "metadata": {},
   "source": [
    "Here is another one, mapping the distribution of hemoglobin in four populations (the US being the reference group) as part of a study looking at the impact of altitude on hemoglobin concentration (courtesy Whitlock and Schluter). "
   ]
  },
  {
   "cell_type": "code",
   "execution_count": null,
   "id": "fd6694ac",
   "metadata": {
    "name": "ridge2"
   },
   "outputs": [],
   "source": [
    "hemoglobinData <- read.csv(url(\"http://whitlockschluter.zoology.ubc.ca/wp-content/data/chapter02/chap02e3cHumanHemoglobinElevation.csv\"))\n",
    "\n",
    "ggplot(hemoglobinData, aes(x = hemoglobin, y = population)) +\n",
    "  geom_density_ridges(scale = 3, alpha = 0.3,\n",
    "                      aes(fill = population)) +\n",
    "  labs(title = 'Hemoglobin Concentration Levels',\n",
    "       subtitle = 'in Four populations') +\n",
    "  theme_ridges() +\n",
    "  theme(axis.title.y = element_blank(),\n",
    "        legend.position = \"none\")  "
   ]
  },
  {
   "cell_type": "markdown",
   "id": "ed10145c",
   "metadata": {},
   "source": [
    "As should be evident, they are visually appealing when comparing a large number of groups on a single continuous variable and using simple `facet-wrap` or other options would be unfeasible. \n",
    "\n",
    "## Box-plots \n",
    "These can be useful to look at the distribution of a continuous variable. [See this video](https://vimeo.com/222358034).  "
   ]
  },
  {
   "cell_type": "code",
   "execution_count": null,
   "id": "024a1605",
   "metadata": {
    "name": "box1"
   },
   "outputs": [],
   "source": [
    "ggplot(hemoglobinData, aes(y = hemoglobin, x = \"\")) +\n",
    "  geom_boxplot(fill = \"cornflowerblue\") +\n",
    "  coord_flip() + \n",
    "  labs(x = \"\",\n",
    "       y = \"Hemoglobin Concentration\") + \n",
    "  theme_minimal()"
   ]
  },
  {
   "cell_type": "markdown",
   "id": "6f62c702",
   "metadata": {},
   "source": [
    "Note: \n",
    "\n",
    "- the `x = \"\"` in `aes()` because otherwise with a single group the box-plot will not build up \n",
    "- `coord_flip()` is flipping the x-axis and y-axis \n",
    "\n",
    "And now for the hemoglobin data. "
   ]
  },
  {
   "cell_type": "code",
   "execution_count": null,
   "id": "a0c4fb4b",
   "metadata": {
    "lines_to_next_cell": 0,
    "name": "box2"
   },
   "outputs": [],
   "source": [
    "ggplot(hemoglobinData, aes(y = hemoglobin, x = population, fill = population)) +\n",
    "  geom_boxplot() +\n",
    "  coord_flip() +\n",
    "  labs(x = \"\",\n",
    "       y = \"Hemoglobin Concentration\") +\n",
    "  theme_minimal() + \n",
    "  theme(axis.title.y = element_blank(),\n",
    "        legend.position = \"none\")"
   ]
  },
  {
   "cell_type": "markdown",
   "id": "c24b57b9",
   "metadata": {},
   "source": [
    "Notice the need for no legend with `fill = population` "
   ]
  },
  {
   "cell_type": "markdown",
   "id": "8bfa9703",
   "metadata": {},
   "source": [
    "## Line-charts \n",
    "\n",
    "These are useful for time-series data since they map trends over time. "
   ]
  },
  {
   "cell_type": "code",
   "execution_count": null,
   "id": "a9dab884",
   "metadata": {
    "name": "line1"
   },
   "outputs": [],
   "source": [
    "library(plotly)\n",
    "data(economics)\n",
    "# names(economics)\n",
    "ggplot(economics, aes(x = date, y = uempmed)) +\n",
    "  geom_line() +\n",
    "  labs(x = \"Date\",\n",
    "       y = \"Unemployment Rate\") + \n",
    "  theme_minimal() "
   ]
  },
  {
   "cell_type": "markdown",
   "id": "4360a84c",
   "metadata": {},
   "source": [
    "They can look very plain and aesthetically unappealing unless you dress them up. See the one below and then the one that follows. "
   ]
  },
  {
   "cell_type": "code",
   "execution_count": null,
   "id": "d6ce56da",
   "metadata": {
    "name": "line2"
   },
   "outputs": [],
   "source": [
    "load(here(\"data\", \"gap.df.RData\"))\n",
    "ggplot(\n",
    "  gap.df,\n",
    "  aes(x = year, y = LifeExp,\n",
    "      group = continent,\n",
    "      color = continent)\n",
    "  ) +\n",
    "  geom_line() +\n",
    "  geom_point() +\n",
    "  labs(x = \"Year\",\n",
    "       y = \"Median Life Expectancy (in years)\") +\n",
    "  theme_minimal() +\n",
    "  theme(legend.position = \"bottom\") "
   ]
  },
  {
   "cell_type": "markdown",
   "id": "aaf8681b",
   "metadata": {},
   "source": [
    "Here is the more aesthetically pleasing version built using `plotly` "
   ]
  },
  {
   "cell_type": "code",
   "execution_count": null,
   "id": "7036771c",
   "metadata": {
    "name": "line3"
   },
   "outputs": [],
   "source": [
    "library(plotly)\n",
    "plot_ly(economics, x = ~date,\n",
    "                  color = I(\"black\")) %>%\n",
    "  add_trace(y = ~uempmed,\n",
    "            name = 'Unemployment Rate',\n",
    "            line = list(color = 'black'),\n",
    "            mode = \"lines\") %>%\n",
    "  add_trace(y = ~psavert,\n",
    "            name = 'Personal Saving Rate',\n",
    "            line = list(color = 'red'),\n",
    "            mode = \"lines\") %>%\n",
    "  layout(autosize = F, width = 700, height = 300) -> myplot \n",
    "\n",
    "library(shiny)\n",
    "div(myplot, align = \"center\")"
   ]
  },
  {
   "cell_type": "markdown",
   "id": "48ded20d",
   "metadata": {},
   "source": [
    "## Scatter-plots \n",
    "These are great with two continuous variables, and work well to highlight the nature and strength of a relationship between the two variables .... what happens to `y` as `x` increases? s"
   ]
  },
  {
   "cell_type": "code",
   "execution_count": null,
   "id": "2600619c",
   "metadata": {
    "name": "sc1"
   },
   "outputs": [],
   "source": [
    "ggplot(hsb2, aes(x = write,\n",
    "                 y = science)\n",
    "       ) +\n",
    "  geom_point() +\n",
    "  labs(x = \"Writing Scores\",\n",
    "       y = \"Science Scores\") +\n",
    "  theme_minimal()"
   ]
  },
  {
   "cell_type": "markdown",
   "id": "c310e846",
   "metadata": {},
   "source": [
    "We could lean on ggplot2 and highlight the different `ses` groups, to see if there is any difference. "
   ]
  },
  {
   "cell_type": "code",
   "execution_count": null,
   "id": "c194d55f",
   "metadata": {
    "name": "sc2"
   },
   "outputs": [],
   "source": [
    "ggplot(hsb2, aes(x = write,\n",
    "                 y = science)) +\n",
    "  geom_point(aes(color = ses)) +\n",
    "  labs(x = \"Writing Scores\",\n",
    "       y = \"Science Scores\") +\n",
    "  theme_minimal() +\n",
    "  theme(legend.position = \"bottom\") "
   ]
  },
  {
   "cell_type": "markdown",
   "id": "f852c7c9",
   "metadata": {},
   "source": [
    "This is not very helpful so why not breakout ses for ease of interpretation? "
   ]
  },
  {
   "cell_type": "code",
   "execution_count": null,
   "id": "c328dbb4",
   "metadata": {
    "name": "sc3"
   },
   "outputs": [],
   "source": [
    "ggplot(hsb2, aes(x = write,\n",
    "                 y = science)) +\n",
    "  geom_point() +\n",
    "  labs(x = \"Writing Scores\",\n",
    "       y = \"Science Scores\") +\n",
    "  facet_wrap(~ ses)  +\n",
    "  theme_minimal()"
   ]
  },
  {
   "cell_type": "markdown",
   "id": "c3f89bde",
   "metadata": {},
   "source": [
    "And then of course we could make it interactive with `plotly` ..."
   ]
  },
  {
   "cell_type": "code",
   "execution_count": null,
   "id": "601e244d",
   "metadata": {
    "name": "sc4"
   },
   "outputs": [],
   "source": [
    "plot_ly(data = hsb2,\n",
    "             x = ~write,\n",
    "             y = ~science,\n",
    "             color = ~ses) -> p \n",
    "div(p, align = \"right\")"
   ]
  },
  {
   "cell_type": "markdown",
   "id": "caf3b7fa",
   "metadata": {},
   "source": [
    "## Count plots\n",
    "`count plots` show the frequency of given pairs of values by varying sizes of the points. The more the frequency of a pair, the greater the size of these points. Useful but somehow I don't end up using them much. "
   ]
  },
  {
   "cell_type": "code",
   "execution_count": null,
   "id": "48295367",
   "metadata": {
    "name": "count1"
   },
   "outputs": [],
   "source": [
    "data(mpg, package=\"ggplot2\")\n",
    "ggplot(mpg, aes(x = cty, y = hwy)) +\n",
    "  geom_count(col = \"firebrick\",\n",
    "             show.legend = FALSE) +\n",
    "  labs(subtitle = \"City vs Highway mileage\",\n",
    "       y=\"Highway mileage\",\n",
    "       x = \"City mileage\")  +\n",
    "  theme_minimal()"
   ]
  },
  {
   "cell_type": "markdown",
   "id": "be80651d",
   "metadata": {},
   "source": [
    "The second example relies on our `Boston Marathon` data, looking at finishing times of men and women, respectively. We could have tried to put both groups in the same plot but that would end up obscuring things more than revealing anything. "
   ]
  },
  {
   "cell_type": "code",
   "execution_count": null,
   "id": "5da63eb6",
   "metadata": {
    "name": "count2"
   },
   "outputs": [],
   "source": [
    "read.csv(here(\"data\", \"BostonMarathon.csv\")) -> boston \n",
    "\n",
    "boston[sample(nrow(boston), 200, replace = FALSE), ] -> boston2 # draw a random sample of 200 runners without replacement \n",
    "\n",
    "ggplot(boston2,\n",
    "       aes(x = Age, \n",
    "           y = finishtime,\n",
    "           group = M.F)\n",
    "       ) +\n",
    "  geom_count(aes(color = M.F),\n",
    "             show.legend = FALSE) +\n",
    "  labs(subtitle = \"\", \n",
    "       y = \"Finishing Times (in seconds)\",\n",
    "       x = \"Age (in years)\") +\n",
    "  facet_wrap(~ M.F, ncol = 1)  +\n",
    "  theme_minimal()"
   ]
  },
  {
   "cell_type": "markdown",
   "id": "7f0ee58c",
   "metadata": {},
   "source": [
    "## Hex-bins\n",
    "\n",
    "Scatter-plots and count plots are not helpful when data points overlap. This is where hex-bins come in handy. In brief, they carve up the plotting grid into hexagons of equal size, count how many $x,y$ pairs fall in each hexagon, and use a color scheme (like a heatmap) to show where hexagons have more data versus less. "
   ]
  },
  {
   "cell_type": "code",
   "execution_count": null,
   "id": "3d4d958c",
   "metadata": {
    "name": "hex1"
   },
   "outputs": [],
   "source": [
    "ggplot(data = diamonds, aes(y = price, x = carat)) +\n",
    "  geom_hex() +\n",
    "  labs(x = \"Weight in Carats\",\n",
    "       y = \"Price\") +\n",
    "  theme_minimal()"
   ]
  },
  {
   "cell_type": "markdown",
   "id": "6e36eead",
   "metadata": {},
   "source": [
    "We could add a third variable, diamond color, for example.  "
   ]
  },
  {
   "cell_type": "code",
   "execution_count": null,
   "id": "2bd96b57",
   "metadata": {
    "lines_to_next_cell": 2,
    "name": "hex2"
   },
   "outputs": [],
   "source": [
    "ggplot(data = diamonds, aes(y = price, x = carat)) +\n",
    "  geom_hex() +\n",
    "  labs(x = \"Weight in Carats\",\n",
    "       y = \"Price\") +\n",
    "  facet_wrap(~ color) +\n",
    "  theme_minimal()"
   ]
  },
  {
   "cell_type": "markdown",
   "id": "0af2f3e9",
   "metadata": {},
   "source": [
    "# Some reminders about `ggplot2` rules & other resources\n",
    "\n",
    "- basic structure: `ggplot(data, aes()) + geom_(aes()) + ...` \n",
    "- `aes()` will take `x =`, `y =`, `fill = `, `color =`, `group =`, `size =`, `radius =`, `size =` and more \n",
    "- each `geom` has its own components \n",
    "- plenty of themes available; [see for e.g., `ggthemes` here](https://yutannihilation.github.io/allYourFigureAreBelongToUs/ggthemes/) \n",
    "- don't forget to stay in touch with development of [ggplot2 extensions](http://www.ggplot2-exts.org/index.html) \n",
    "- of course, [the plotly site](https://plot.ly/r/) and Carson Sievert's [plotly book](https://plotly-book.cpsievert.me) \n",
    " - keep [ggplot2 cheatsheet handy](https://www.rstudio.com/wp-content/uploads/2015/03/ggplot2-cheatsheet.pdf) \n",
    "- join [stackoverflow](https://stackoverflow.com) but if you ask a question, `post with a MWE (minimum working example)`. This is crucial otherwise be prepared to have your head bitten off or at best have nobody respond to your question!"
   ]
  },
  {
   "cell_type": "markdown",
   "id": "3e438cac",
   "metadata": {},
   "source": [
    "Some resources to bear in mind: \n",
    "\n",
    "- [The Data Visualization Catalogue](https://datavizcatalogue.com) developed by Severino Ribecca to create a library of different information visualization types \n",
    "-  [The R Graph Catalog](http://shinyapps.stat.ubc.ca/r-graph-catalog/)  maintained by Joanna Zhao and Jenny Bryan is always useful to see code-and-resulting-figure \n",
    "- [Ferdio's Data Visualization Project](http://datavizproject.com), a website trying to present all relevant data visualizations, so you can find the right visualization and get inspired how to make them \n",
    "- [The Chartmaker Directory](http://chartmaker.visualisingdata.com) will offer an answer to one of the most common questions in data visualization: 'which tool do you need to make that chart?’ \n",
    "- [Emery's Essentials](http://annkemery.com/essentials/) focusing on the charts that give you the best bang for your buck \n",
    "- [The Data Visualization Checklist](http://annkemery.com/wp-content/uploads/2016/10/DataVizChecklist_May2016.pdf) by Ann K. Emery & Stephanie Evergreen "
   ]
  },
  {
   "cell_type": "markdown",
   "id": "a0646dd3",
   "metadata": {},
   "source": [
    "And finally, my suggestion of how to go about building your visualizations: \n",
    "\n",
    "- `r emojifont::emoji('repeat')` start with pencil and paper, sketch prototypes of desired visualization(s)\n",
    "- `r emojifont::emoji('smile')` graphics are relatively easy to generate with base R & with `ggplot2` \n",
    "- `r emojifont::emoji('clap')` common-sense: `number` & `type` of variable(s) guide plotting \n",
    "- `r emojifont::emoji('sparkler')` stay `color conscious`: sensible colors & sensitive to color blindness\n",
    "- `r emojifont::emoji('beginner')` experiment, experiment, experiment until you are happy \n",
    "- use the `r emojifont::emoji('free')` learning resources available online \n",
    "- `r emojifont::emoji('ledger')` if you learn something new in R, write it down \n",
    "\n",
    "----------\n",
    "\n",
    "# Practice tasks \n",
    "\n",
    "### Ex. 1: Lord of the Rings trilogy data \n",
    "Use the Lord of the Rings data emailed to you to answer the following questions. Note that these data are from [jennybc](https://github.com/jennybc/lotr) and represent the number of words spoken by characters in the LOTR trilogy. Some other, pretty amazing visualizations  an be seen here, the work of [Nadieh Bremer](http://www.datasketch.es/july/code/nadieh/). You are merely looking at how many times a particular race or character appears on screen with a dialogue of at least one word. \n",
    "\n",
    "(a) Generate an appropriate chart that shows the distribution of `Race` \n",
    "\n",
    "(b) Now break this distribution out by `Film` to see how Race is distributed across Film. \n",
    "\n",
    "(c) Now generate an appropriate chart to show the distribution of `Character` by film. Use `coord_flip()` to flip the coordinates so that the characters show up on the y-axis. \n",
    "\n",
    "(d) Now use `facet_wrap()` to generate the three-panel layout, one panel per film. \n",
    "\n",
    "(e) Use an appropriate chart to plot the distribution of the number of words spoken overall \n",
    "\n",
    "(f) Now break up this chart by movie. \n",
    "\n",
    "(g) What if you did it by Race? Which race seems to speak the most? "
   ]
  },
  {
   "cell_type": "markdown",
   "id": "d2bfd90b",
   "metadata": {},
   "source": [
    "### Ex. 2: Water levels in the Great Lakes\n",
    "\n",
    "Download the monthly Great Lakes water level dataset [SPSS format from here](https://aniruhil.github.io/avsr/teaching/dataviz/greatlakes.sav) and [Excel format from here](https://aniruhil.github.io/avsr/teaching/dataviz/greatlakes.xlsx). *Note that water level is in meters.* \n",
    "\n",
    "Use the following command to read in the excel file: "
   ]
  },
  {
   "cell_type": "code",
   "execution_count": null,
   "id": "fcc3c756",
   "metadata": {
    "eval": false,
    "name": "Module02_forClass-4"
   },
   "outputs": [],
   "source": [
    "library(readxl)\n",
    "url <- \"https://aniruhil.github.io/avsr/teaching/dataviz/greatlakes.xlsx\"\n",
    "destfile <- \"greatlakes.xlsx\"\n",
    "curl::curl_download(url, destfile)\n",
    "greatlakes <- read_excel(destfile, col_types = c(\"date\", \n",
    "     \"numeric\", \"numeric\", \"numeric\", \"numeric\", \n",
    "     \"numeric\"))"
   ]
  },
  {
   "cell_type": "markdown",
   "id": "5a1be3f0",
   "metadata": {},
   "source": [
    "Now use an appropriate chart to show the water level for Lake Superior. \n",
    "\n",
    "### Ex. 3: County Health Rankings\n",
    "Download the 2017 County Health Rankings data [SPSS format from here](https://aniruhil.github.io/avsr/teaching/dataviz/CountyHealthRankings2017.sav), [Excel format from here](https://aniruhil.github.io/avsr/teaching/dataviz/CountyHealthRankings2017.xlsx) and the [accompanying codebook](http://www.countyhealthrankings.org/sites/default/files/2017TrendsDocumentation.pdf). \n",
    "\n",
    "Construct appropriate plots that shows the relationship between the following pairs of variables \n",
    "\n",
    "(a) Adult obesity and High school graduation \n",
    "\n",
    "(b) Children in poverty and High school graduation \n",
    "\n",
    "(c) Preventable hospital stays and Unemployment rate "
   ]
  },
  {
   "cell_type": "markdown",
   "id": "feb1bab4",
   "metadata": {},
   "source": [
    "### Ex. 4: Unemployment Rates\n",
    "Use the unemployment data given to you and construct appropriate plots that show the distribution of unemployment rates for each of the four educational attainment groups. \n",
    "\n"
   ]
  }
 ],
 "metadata": {
  "jupytext": {
   "cell_metadata_filter": "out.width,include,eval,name,tags,-all",
   "main_language": "R",
   "notebook_metadata_filter": "-all"
  }
 },
 "nbformat": 4,
 "nbformat_minor": 5
}
